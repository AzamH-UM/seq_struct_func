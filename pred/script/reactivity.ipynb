{
 "cells": [
  {
   "cell_type": "code",
   "execution_count": 1,
   "id": "d4e96b63-908b-4d12-9938-3c2dd9d3e0a4",
   "metadata": {},
   "outputs": [],
   "source": [
    "#Predict reactivity of a protein-ligand complex\n",
    "#Before running, download results directory into pred/script/pafnucy/\n",
    "    #https://gitlab.com/cheminfIBB/pafnucy/-/tree/master/results \n",
    "import os\n",
    "import sys\n",
    "import pandas as pd\n",
    "import numpy as np\n",
    "import pickle\n",
    "from openbabel import pybel\n",
    "\n",
    "os.chdir('/home/azamh/demo/seq_struct_func/pred')"
   ]
  },
  {
   "cell_type": "code",
   "execution_count": 2,
   "id": "b7b8b0e3-725b-4313-9cdb-66c3c81f4d4d",
   "metadata": {},
   "outputs": [],
   "source": [
    "#Arguments\n",
    "protein = 'tropb'\n",
    "ligand = '2'\n",
    "pdb_with_fad_path = f'../cofactor/pdb_with_fad/{protein}_fad.pdb'\n",
    "dockdir = f'../dock/poses/{protein}_{ligand}_prot'\n",
    "stereo_df = pd.read_excel(f'stereo/{protein}_{ligand}_stereo.xlsx', header = 0, index_col = 0)"
   ]
  },
  {
   "cell_type": "code",
   "execution_count": 3,
   "id": "5c281bc7-da87-4ed4-8c9c-cd79a5df6cb6",
   "metadata": {},
   "outputs": [
    {
     "data": {
      "text/html": [
       "<table class=\"simpletable\">\n",
       "<caption>Logit Regression Results</caption>\n",
       "<tr>\n",
       "  <th>Dep. Variable:</th>      <td>Conversion</td>    <th>  No. Observations:  </th>  <td>    67</td>  \n",
       "</tr>\n",
       "<tr>\n",
       "  <th>Model:</th>                 <td>Logit</td>      <th>  Df Residuals:      </th>  <td>    63</td>  \n",
       "</tr>\n",
       "<tr>\n",
       "  <th>Method:</th>                 <td>MLE</td>       <th>  Df Model:          </th>  <td>     3</td>  \n",
       "</tr>\n",
       "<tr>\n",
       "  <th>Date:</th>            <td>Sun, 11 Dec 2022</td> <th>  Pseudo R-squ.:     </th>  <td>0.2368</td>  \n",
       "</tr>\n",
       "<tr>\n",
       "  <th>Time:</th>                <td>22:19:50</td>     <th>  Log-Likelihood:    </th> <td> -34.980</td> \n",
       "</tr>\n",
       "<tr>\n",
       "  <th>converged:</th>             <td>True</td>       <th>  LL-Null:           </th> <td> -45.835</td> \n",
       "</tr>\n",
       "<tr>\n",
       "  <th>Covariance Type:</th>     <td>nonrobust</td>    <th>  LLR p-value:       </th> <td>7.501e-05</td>\n",
       "</tr>\n",
       "</table>\n",
       "<table class=\"simpletable\">\n",
       "<tr>\n",
       "                <td></td>                   <th>coef</th>     <th>std err</th>      <th>z</th>      <th>P>|z|</th>  <th>[0.025</th>    <th>0.975]</th>  \n",
       "</tr>\n",
       "<tr>\n",
       "  <th>Avg Fad Angle</th>                 <td>    0.1035</td> <td>    0.043</td> <td>    2.393</td> <td> 0.017</td> <td>    0.019</td> <td>    0.188</td>\n",
       "</tr>\n",
       "<tr>\n",
       "  <th>Avg Anion Dist</th>                <td>   -0.4565</td> <td>    0.199</td> <td>   -2.293</td> <td> 0.022</td> <td>   -0.847</td> <td>   -0.066</td>\n",
       "</tr>\n",
       "<tr>\n",
       "  <th>Avg Docking Energy Efficiency</th> <td>   -1.3699</td> <td>    0.389</td> <td>   -3.519</td> <td> 0.000</td> <td>   -2.133</td> <td>   -0.607</td>\n",
       "</tr>\n",
       "<tr>\n",
       "  <th>Avg Pafnucy pKa Efficiency</th>    <td>  -16.6168</td> <td>    5.488</td> <td>   -3.028</td> <td> 0.002</td> <td>  -27.373</td> <td>   -5.860</td>\n",
       "</tr>\n",
       "</table>"
      ],
      "text/plain": [
       "<class 'statsmodels.iolib.summary.Summary'>\n",
       "\"\"\"\n",
       "                           Logit Regression Results                           \n",
       "==============================================================================\n",
       "Dep. Variable:             Conversion   No. Observations:                   67\n",
       "Model:                          Logit   Df Residuals:                       63\n",
       "Method:                           MLE   Df Model:                            3\n",
       "Date:                Sun, 11 Dec 2022   Pseudo R-squ.:                  0.2368\n",
       "Time:                        22:19:50   Log-Likelihood:                -34.980\n",
       "converged:                       True   LL-Null:                       -45.835\n",
       "Covariance Type:            nonrobust   LLR p-value:                 7.501e-05\n",
       "=================================================================================================\n",
       "                                    coef    std err          z      P>|z|      [0.025      0.975]\n",
       "-------------------------------------------------------------------------------------------------\n",
       "Avg Fad Angle                     0.1035      0.043      2.393      0.017       0.019       0.188\n",
       "Avg Anion Dist                   -0.4565      0.199     -2.293      0.022      -0.847      -0.066\n",
       "Avg Docking Energy Efficiency    -1.3699      0.389     -3.519      0.000      -2.133      -0.607\n",
       "Avg Pafnucy pKa Efficiency      -16.6168      5.488     -3.028      0.002     -27.373      -5.860\n",
       "=================================================================================================\n",
       "\"\"\""
      ]
     },
     "execution_count": 3,
     "metadata": {},
     "output_type": "execute_result"
    }
   ],
   "source": [
    "#Read trained logistic regressor model for consensus reactivity\n",
    "log_reg = pickle.load(open(f'../si_data/log_reg_models/prot_0.75_fftdock_3_logreg.pkl', 'rb'))\n",
    "log_reg.summary()"
   ]
  },
  {
   "cell_type": "code",
   "execution_count": 4,
   "id": "b414c2bf-44b2-4d79-bd3a-ced813cdd899",
   "metadata": {},
   "outputs": [
    {
     "data": {
      "text/html": [
       "<div>\n",
       "<style scoped>\n",
       "    .dataframe tbody tr th:only-of-type {\n",
       "        vertical-align: middle;\n",
       "    }\n",
       "\n",
       "    .dataframe tbody tr th {\n",
       "        vertical-align: top;\n",
       "    }\n",
       "\n",
       "    .dataframe thead th {\n",
       "        text-align: right;\n",
       "    }\n",
       "</style>\n",
       "<table border=\"1\" class=\"dataframe\">\n",
       "  <thead>\n",
       "    <tr style=\"text-align: right;\">\n",
       "      <th></th>\n",
       "      <th>cluster</th>\n",
       "      <th>size</th>\n",
       "      <th>min_ener</th>\n",
       "      <th>min_index</th>\n",
       "      <th>average energy</th>\n",
       "      <th>std energy</th>\n",
       "      <th>stereo</th>\n",
       "      <th>angle</th>\n",
       "      <th>dist_to_fad</th>\n",
       "      <th>anion_dist</th>\n",
       "    </tr>\n",
       "  </thead>\n",
       "  <tbody>\n",
       "    <tr>\n",
       "      <th>0</th>\n",
       "      <td>['105', '135', '147', '162', '179', '199', '22...</td>\n",
       "      <td>8</td>\n",
       "      <td>-50.03</td>\n",
       "      <td>224</td>\n",
       "      <td>-28.72</td>\n",
       "      <td>15.96</td>\n",
       "      <td>R</td>\n",
       "      <td>131.45</td>\n",
       "      <td>4.412384</td>\n",
       "      <td>3.315454</td>\n",
       "    </tr>\n",
       "    <tr>\n",
       "      <th>1</th>\n",
       "      <td>['108', '115', '185', '213', '233', '242', '25...</td>\n",
       "      <td>17</td>\n",
       "      <td>-46.84</td>\n",
       "      <td>185</td>\n",
       "      <td>-20.94</td>\n",
       "      <td>17.58</td>\n",
       "      <td>R</td>\n",
       "      <td>113.79</td>\n",
       "      <td>5.454536</td>\n",
       "      <td>3.451893</td>\n",
       "    </tr>\n",
       "    <tr>\n",
       "      <th>2</th>\n",
       "      <td>['145']</td>\n",
       "      <td>1</td>\n",
       "      <td>-42.09</td>\n",
       "      <td>145</td>\n",
       "      <td>-42.09</td>\n",
       "      <td>0.00</td>\n",
       "      <td>R</td>\n",
       "      <td>115.82</td>\n",
       "      <td>5.454525</td>\n",
       "      <td>4.728620</td>\n",
       "    </tr>\n",
       "    <tr>\n",
       "      <th>3</th>\n",
       "      <td>['122', '128', '136', '204', '211', '261', '28...</td>\n",
       "      <td>11</td>\n",
       "      <td>-40.18</td>\n",
       "      <td>211</td>\n",
       "      <td>15.15</td>\n",
       "      <td>30.23</td>\n",
       "      <td>R</td>\n",
       "      <td>110.16</td>\n",
       "      <td>5.373566</td>\n",
       "      <td>4.580234</td>\n",
       "    </tr>\n",
       "    <tr>\n",
       "      <th>4</th>\n",
       "      <td>['194', '241', '438', '458', '471', '63']</td>\n",
       "      <td>6</td>\n",
       "      <td>-38.91</td>\n",
       "      <td>438</td>\n",
       "      <td>-33.32</td>\n",
       "      <td>3.23</td>\n",
       "      <td>R</td>\n",
       "      <td>118.84</td>\n",
       "      <td>5.102235</td>\n",
       "      <td>4.227627</td>\n",
       "    </tr>\n",
       "    <tr>\n",
       "      <th>...</th>\n",
       "      <td>...</td>\n",
       "      <td>...</td>\n",
       "      <td>...</td>\n",
       "      <td>...</td>\n",
       "      <td>...</td>\n",
       "      <td>...</td>\n",
       "      <td>...</td>\n",
       "      <td>...</td>\n",
       "      <td>...</td>\n",
       "      <td>...</td>\n",
       "    </tr>\n",
       "    <tr>\n",
       "      <th>103</th>\n",
       "      <td>['245']</td>\n",
       "      <td>1</td>\n",
       "      <td>1866.75</td>\n",
       "      <td>245</td>\n",
       "      <td>1866.75</td>\n",
       "      <td>0.00</td>\n",
       "      <td>R</td>\n",
       "      <td>116.61</td>\n",
       "      <td>7.197409</td>\n",
       "      <td>5.214141</td>\n",
       "    </tr>\n",
       "    <tr>\n",
       "      <th>104</th>\n",
       "      <td>['287']</td>\n",
       "      <td>1</td>\n",
       "      <td>3351.10</td>\n",
       "      <td>287</td>\n",
       "      <td>3351.10</td>\n",
       "      <td>0.00</td>\n",
       "      <td>S</td>\n",
       "      <td>61.76</td>\n",
       "      <td>2.704134</td>\n",
       "      <td>7.536139</td>\n",
       "    </tr>\n",
       "    <tr>\n",
       "      <th>105</th>\n",
       "      <td>['156', '215']</td>\n",
       "      <td>2</td>\n",
       "      <td>3791.10</td>\n",
       "      <td>156</td>\n",
       "      <td>3799.87</td>\n",
       "      <td>8.77</td>\n",
       "      <td>S</td>\n",
       "      <td>30.87</td>\n",
       "      <td>2.076857</td>\n",
       "      <td>8.937882</td>\n",
       "    </tr>\n",
       "    <tr>\n",
       "      <th>106</th>\n",
       "      <td>['146']</td>\n",
       "      <td>1</td>\n",
       "      <td>3817.38</td>\n",
       "      <td>146</td>\n",
       "      <td>3817.38</td>\n",
       "      <td>0.00</td>\n",
       "      <td>R</td>\n",
       "      <td>157.18</td>\n",
       "      <td>1.887237</td>\n",
       "      <td>8.958015</td>\n",
       "    </tr>\n",
       "    <tr>\n",
       "      <th>107</th>\n",
       "      <td>['161', '168', '285', '415', '494']</td>\n",
       "      <td>5</td>\n",
       "      <td>5669.10</td>\n",
       "      <td>161</td>\n",
       "      <td>7346.37</td>\n",
       "      <td>2046.49</td>\n",
       "      <td>S</td>\n",
       "      <td>25.82</td>\n",
       "      <td>1.752032</td>\n",
       "      <td>8.977769</td>\n",
       "    </tr>\n",
       "  </tbody>\n",
       "</table>\n",
       "<p>108 rows × 10 columns</p>\n",
       "</div>"
      ],
      "text/plain": [
       "                                               cluster  size  min_ener  \\\n",
       "0    ['105', '135', '147', '162', '179', '199', '22...     8    -50.03   \n",
       "1    ['108', '115', '185', '213', '233', '242', '25...    17    -46.84   \n",
       "2                                              ['145']     1    -42.09   \n",
       "3    ['122', '128', '136', '204', '211', '261', '28...    11    -40.18   \n",
       "4            ['194', '241', '438', '458', '471', '63']     6    -38.91   \n",
       "..                                                 ...   ...       ...   \n",
       "103                                            ['245']     1   1866.75   \n",
       "104                                            ['287']     1   3351.10   \n",
       "105                                     ['156', '215']     2   3791.10   \n",
       "106                                            ['146']     1   3817.38   \n",
       "107                ['161', '168', '285', '415', '494']     5   5669.10   \n",
       "\n",
       "     min_index  average energy  std energy stereo   angle  dist_to_fad  \\\n",
       "0          224          -28.72       15.96      R  131.45     4.412384   \n",
       "1          185          -20.94       17.58      R  113.79     5.454536   \n",
       "2          145          -42.09        0.00      R  115.82     5.454525   \n",
       "3          211           15.15       30.23      R  110.16     5.373566   \n",
       "4          438          -33.32        3.23      R  118.84     5.102235   \n",
       "..         ...             ...         ...    ...     ...          ...   \n",
       "103        245         1866.75        0.00      R  116.61     7.197409   \n",
       "104        287         3351.10        0.00      S   61.76     2.704134   \n",
       "105        156         3799.87        8.77      S   30.87     2.076857   \n",
       "106        146         3817.38        0.00      R  157.18     1.887237   \n",
       "107        161         7346.37     2046.49      S   25.82     1.752032   \n",
       "\n",
       "     anion_dist  \n",
       "0      3.315454  \n",
       "1      3.451893  \n",
       "2      4.728620  \n",
       "3      4.580234  \n",
       "4      4.227627  \n",
       "..          ...  \n",
       "103    5.214141  \n",
       "104    7.536139  \n",
       "105    8.937882  \n",
       "106    8.958015  \n",
       "107    8.977769  \n",
       "\n",
       "[108 rows x 10 columns]"
      ]
     },
     "execution_count": 4,
     "metadata": {},
     "output_type": "execute_result"
    }
   ],
   "source": [
    "#Angle, anion dist and docking energy from stereochemistry analysis of cluster df\n",
    "stereo_df"
   ]
  },
  {
   "cell_type": "code",
   "execution_count": 5,
   "id": "d6b5e276-5945-4b4d-ae28-7ebab8bea4e5",
   "metadata": {},
   "outputs": [],
   "source": [
    "#Get predicted pKd from Pafnucy\n",
    "#Use top docked pose for protein-ligand complex\n",
    "top_index = stereo_df['min_index'].iloc[0]\n",
    "top_pose_path = os.path.join(dockdir, f'{protein}_{ligand}_{top_index}.pdb')"
   ]
  },
  {
   "cell_type": "code",
   "execution_count": 6,
   "id": "247cc5b6-0431-470b-ac67-086275b198ad",
   "metadata": {
    "tags": []
   },
   "outputs": [
    {
     "name": "stdout",
     "output_type": "stream",
     "text": [
      "1 ligands and 1 pockets to prepare:\n",
      " pocket: /home/azamh/demo/seq_struct_func/cofactor/pdb_with_fad/tropb_fad.pdb\n",
      " ligand: /home/azamh/demo/seq_struct_func/dock/poses/tropb_2_prot/tropb_2_224.pdb\n",
      "\n",
      "\n",
      "\n",
      "reading /home/azamh/demo/seq_struct_func/dock/poses/tropb_2_prot/tropb_2_224.pdb\n",
      "\n",
      "\n",
      "created /home/azamh/demo/seq_struct_func/pred/pafnucy/tropb_2.hdf with 1 structures\n"
     ]
    },
    {
     "data": {
      "text/plain": [
       "0"
      ]
     },
     "execution_count": 6,
     "metadata": {},
     "output_type": "execute_result"
    }
   ],
   "source": [
    "#Prepare protein ligand complex\n",
    "complex_file = f'pafnucy/{protein}_{ligand}.hdf'\n",
    "prepare_cmd = f'{sys.executable} script/pafnucy/prepare.py -l {top_pose_path} --ligand_format pdb ' + \\\n",
    "f'-p {pdb_with_fad_path} --pocket_format pdb -o {complex_file}'\n",
    "os.system(prepare_cmd)"
   ]
  },
  {
   "cell_type": "code",
   "execution_count": 7,
   "id": "e1840561-5fb3-4d4b-a9e7-105ce5a0e4ef",
   "metadata": {},
   "outputs": [
    {
     "name": "stderr",
     "output_type": "stream",
     "text": [
      "2022-12-11 22:19:53.321105: I tensorflow/core/platform/cpu_feature_guard.cc:193] This TensorFlow binary is optimized with oneAPI Deep Neural Network Library (oneDNN) to use the following CPU instructions in performance-critical operations:  SSE4.1 SSE4.2 AVX AVX2 AVX512F AVX512_VNNI FMA\n",
      "To enable them in other operations, rebuild TensorFlow with the appropriate compiler flags.\n",
      "2022-12-11 22:19:53.442820: I tensorflow/core/util/util.cc:169] oneDNN custom operations are on. You may see slightly different numerical results due to floating-point round-off errors from different computation orders. To turn them off, set the environment variable `TF_ENABLE_ONEDNN_OPTS=0`.\n",
      "WARNING:tensorflow:From /home/azamh/miniconda3/envs/seq_struct_func/lib/python3.10/site-packages/tensorflow/python/compat/v2_compat.py:107: disable_resource_variables (from tensorflow.python.ops.variable_scope) is deprecated and will be removed in a future version.\n",
      "Instructions for updating:\n",
      "non-resource variables are not supported in the long term\n",
      "2022-12-11 22:19:58.623212: I tensorflow/core/platform/cpu_feature_guard.cc:193] This TensorFlow binary is optimized with oneAPI Deep Neural Network Library (oneDNN) to use the following CPU instructions in performance-critical operations:  SSE4.1 SSE4.2 AVX AVX2 AVX512F AVX512_VNNI FMA\n",
      "To enable them in other operations, rebuild TensorFlow with the appropriate compiler flags.\n",
      "2022-12-11 22:19:58.632791: I tensorflow/compiler/mlir/mlir_graph_optimization_pass.cc:354] MLIR V1 optimization pass is not enabled\n"
     ]
    },
    {
     "name": "stdout",
     "output_type": "stream",
     "text": [
      "loaded 1 complexes\n",
      "\n",
      "restored network from /home/azamh/demo/seq_struct_func/pred/script/pafnucy/results/batch5-2017-06-05T07:58:47-best\n",
      "\n",
      "20 samples per batch\n",
      "\n",
      "results saved to /home/azamh/demo/seq_struct_func/pred/pafnucy/tropb_2.csv\n"
     ]
    },
    {
     "data": {
      "text/plain": [
       "0"
      ]
     },
     "execution_count": 7,
     "metadata": {},
     "output_type": "execute_result"
    }
   ],
   "source": [
    "#Predict with trained CNN\n",
    "prediction_file = f'pafnucy/{protein}_{ligand}.csv'\n",
    "network = 'script/pafnucy/results/batch5-2017-06-05T07:58:47-best'\n",
    "predict_cmd = f'{sys.executable} script/pafnucy/predict.py -i {complex_file} -n {network} -o {prediction_file}'\n",
    "os.system(predict_cmd)"
   ]
  },
  {
   "cell_type": "code",
   "execution_count": 8,
   "id": "a7abb1db-1686-49bf-96ca-971704926828",
   "metadata": {},
   "outputs": [
    {
     "data": {
      "text/plain": [
       "5.870636"
      ]
     },
     "execution_count": 8,
     "metadata": {},
     "output_type": "execute_result"
    }
   ],
   "source": [
    "pred_pkd = pd.read_csv(prediction_file, header = 0, index_col = 0)['prediction'].iloc[0]\n",
    "pred_pkd"
   ]
  },
  {
   "cell_type": "code",
   "execution_count": 9,
   "id": "55a7fc9e-50bd-40ef-92bd-5b3c9846eaad",
   "metadata": {},
   "outputs": [
    {
     "name": "stdout",
     "output_type": "stream",
     "text": [
      "dock_energy_efficiency -2.942941176470588 kcal/mol/HA\n",
      "angle 48.55000000000001 degrees\n",
      "anion_dist 3.315454418326393 angstrom\n",
      "pred_pkd_efficiency 0.3453315294117647 1/HA\n"
     ]
    }
   ],
   "source": [
    "#Process values for logistic regression model\n",
    "\n",
    "#Dictionary for ligand heavy atom counts:\n",
    "ha_dict = {'2':17, '3':18, '4':17, '5':14}\n",
    "\n",
    "#Read in pose geometric information from stereo_df\n",
    "top_cluster = stereo_df.iloc[0]\n",
    "dock_energy = top_cluster['min_ener']\n",
    "angle = top_cluster['angle']\n",
    "if angle > 90:\n",
    "    angle = 180 - angle\n",
    "anion_dist = top_cluster['anion_dist']\n",
    "\n",
    "#Rescale by heavy atom counts for pkd and dock energy\n",
    "dock_energy_efficiency = dock_energy / ha_dict[ligand]\n",
    "pred_pkd_efficiency = pred_pkd / ha_dict[ligand]\n",
    "\n",
    "print('dock_energy_efficiency', dock_energy_efficiency, 'kcal/mol/HA')\n",
    "print('angle', angle, 'degrees')\n",
    "print('anion_dist', anion_dist, 'angstrom')\n",
    "print('pred_pkd_efficiency', pred_pkd_efficiency, '1/HA')"
   ]
  },
  {
   "cell_type": "code",
   "execution_count": 10,
   "id": "64ade05d-e100-4961-a76c-2fd0f1c120d3",
   "metadata": {},
   "outputs": [
    {
     "data": {
      "text/plain": [
       "array([0.85891097])"
      ]
     },
     "execution_count": 10,
     "metadata": {},
     "output_type": "execute_result"
    }
   ],
   "source": [
    "#Predict with logistic regression model: 0 -> unreactive, 1 -> reactive\n",
    "log_reg.predict([angle, anion_dist, dock_energy_efficiency, pred_pkd_efficiency])"
   ]
  },
  {
   "cell_type": "code",
   "execution_count": null,
   "id": "903d51be-3fbc-4b6f-8a63-466dfcd65402",
   "metadata": {},
   "outputs": [],
   "source": []
  }
 ],
 "metadata": {
  "kernelspec": {
   "display_name": "Python 3 (ipykernel)",
   "language": "python",
   "name": "python3"
  }
 },
 "nbformat": 4,
 "nbformat_minor": 5
}
