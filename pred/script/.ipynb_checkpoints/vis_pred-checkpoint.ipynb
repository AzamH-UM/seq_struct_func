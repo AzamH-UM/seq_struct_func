{
 "cells": [
  {
   "cell_type": "code",
   "execution_count": 2,
   "id": "f9130ca4-1499-47c9-bece-1713d48ba0a2",
   "metadata": {},
   "outputs": [
    {
     "data": {
      "application/vnd.jupyter.widget-view+json": {
       "model_id": "14546473edb44212b6e7a87bed57479f",
       "version_major": 2,
       "version_minor": 0
      },
      "text/plain": []
     },
     "metadata": {},
     "output_type": "display_data"
    }
   ],
   "source": [
    "#Visuallize predictions\n",
    "import os\n",
    "import sys\n",
    "import pandas as pd\n",
    "import numpy as np\n",
    "import math\n",
    "import nglview\n",
    "\n",
    "os.chdir('/home/azamh/demo/seq_struct_func/pred')"
   ]
  },
  {
   "cell_type": "code",
   "execution_count": 3,
   "id": "96d23401-4914-47b0-9389-e0733b8f957d",
   "metadata": {},
   "outputs": [],
   "source": [
    "#Arguments\n",
    "protein = 'tropb'\n",
    "ligand = '2'\n",
    "af2_model_path = f'../model/models/{protein}/ranked_0.pdb'\n",
    "pdb_with_fad_path = f'../cofactor/pdb_with_fad/{protein}_fad.pdb'\n",
    "dockdir = f'../dock/poses/{protein}_{ligand}_prot'\n",
    "cluster_df = pd.read_excel(f'../dock/cluster/{protein}_{ligand}_prot.xlsx', header = 0, index_col = 0)"
   ]
  },
  {
   "cell_type": "code",
   "execution_count": 4,
   "id": "b884aaea",
   "metadata": {},
   "outputs": [],
   "source": [
    "#Get lowest energy pose\n",
    "min_index = cluster_df['min_index'].iloc[0]\n",
    "top_pose_path = f'../dock/poses/{protein}_{ligand}_prot/{protein}_{ligand}_{min_index}.pdb'"
   ]
  },
  {
   "cell_type": "code",
   "execution_count": 5,
   "id": "f4670de8",
   "metadata": {},
   "outputs": [],
   "source": [
    "#List of atoms defining ring of ligand\n",
    "lig_atom_dict = {\n",
    "    '2': ['C9','C7','C6', 'C13', 'C12', 'C10', 'O4'],\n",
    "    '3': ['C9','C7','C6', 'C13', 'C12', 'C10', 'O5'],\n",
    "    '4':  ['C1', 'C5', 'C6', 'C4', 'C3', 'C2', 'O3'],\n",
    "    '5': ['C2', 'C4', 'C6', 'C10', 'C3', 'C1', 'O2'], \n",
    "}"
   ]
  },
  {
   "cell_type": "code",
   "execution_count": 6,
   "id": "2596c0b2",
   "metadata": {},
   "outputs": [],
   "source": [
    "#Functions for manipulating PDB with pandas dataframes\n",
    "#Read in pdb as a dataframe\n",
    "def pdb_as_df(pdb_file):\n",
    "    pdb_dict = dict()\n",
    "    metrics = [\n",
    "        \"atom_num\",\n",
    "        \"atom_name\",\n",
    "        \"resi_name\",\n",
    "        \"chain\",\n",
    "        \"resi_num\",\n",
    "        \"atom_x\",\n",
    "        \"atom_y\",\n",
    "        \"atom_z\",\n",
    "        \"atom_occ\",\n",
    "        \"atom_b\",\n",
    "        \"atom_segid\"\n",
    "    ]\n",
    "    columns = [\n",
    "        (6,11),\n",
    "        (12,16),\n",
    "        (17,21),\n",
    "        (21,22),\n",
    "        (22,26),\n",
    "        (30,38),\n",
    "        (38,46),\n",
    "        (46,54),\n",
    "        (54,60),\n",
    "        (60,66),\n",
    "        (72,76)\n",
    "    ]\n",
    "    pdb_txt = open(pdb_file, 'r').read().splitlines()\n",
    "    index_i = 0\n",
    "    for line in pdb_txt:\n",
    "        if line.startswith('ATOM') or line.startswith('HETATM'):\n",
    "            atom_dict = {metric: line[col[0]:col[1]].strip() for metric,\n",
    "                         col in zip(metrics, columns)}\n",
    "            pdb_dict[index_i] = atom_dict\n",
    "            index_i += 1\n",
    "\n",
    "    pdb_df = pd.DataFrame.from_dict(pdb_dict, orient='index')\n",
    "    pdb_df = pdb_df.astype({\n",
    "                            \"atom_num\": 'int',\n",
    "                            'resi_num': 'int',\n",
    "                            'atom_x': 'float',\n",
    "                            'atom_y': 'float',\n",
    "                            'atom_z': 'float',\n",
    "                            'atom_occ': 'float',\n",
    "                            'atom_b': 'float',\n",
    "                            })\n",
    "\n",
    "    return pdb_df\n",
    "\n",
    "#Select atoms based on a property\n",
    "def get_atoms(df, property, value):\n",
    "    if isinstance(value, list):\n",
    "        return df.loc[df[property].isin(value)].reset_index(drop = True)\n",
    "    else:\n",
    "        return df.loc[df[property] == value].reset_index(drop = True)\n",
    "\n",
    "#Get coordinates of an atom\n",
    "def get_atom_coor(df, atom_name):\n",
    "    atom_df = get_atoms(df, 'atom_name', atom_name).iloc[0]\n",
    "    x, y, z = atom_df[['atom_x', 'atom_y', 'atom_z']].values\n",
    "    return x, y, z\n",
    "\n",
    "#distance between two points\n",
    "def coor_distance(x1, y1, z1, x2, y2, z2):\n",
    "    p1 = np.array([x1, y1, z1])\n",
    "    p2 = np.array([x2, y2, z2])\n",
    "    squared_dist=np.sum((p1-p2)**2, axis = 0)\n",
    "    dist = np.sqrt(squared_dist)\n",
    "    return dist\n",
    "\n",
    "def coor_distance_tuple(coor1, coor2):\n",
    "    x1, y1, z1 = coor1\n",
    "    x2, y2, z2 = coor2\n",
    "    p1 = np.array([x1, y1, z1])\n",
    "    p2 = np.array([x2, y2, z2])\n",
    "    squared_dist=np.sum((p1-p2)**2, axis = 0)\n",
    "    dist = np.sqrt(squared_dist)\n",
    "    return dist\n",
    "\n",
    "#Average coordinates of dataframe\n",
    "def average_coor(df):\n",
    "    coords = df[['atom_x', 'atom_y', 'atom_z']]\n",
    "    xave, yave, zave = coords.mean().values\n",
    "    return xave, yave, zave\n",
    "\n",
    "#Magnitude of a vector\n",
    "def magnitude(x, y, z):\n",
    "    return math.sqrt(x**2 + y**2 + z**2)\n",
    "\n",
    "#Plane defined by 3 atoms\n",
    "def plane(coor1:tuple, coor2:tuple, coor3:tuple):\n",
    "    x1, y1, z1 = coor1\n",
    "    x2, y2, z2 = coor2\n",
    "    x3, y3, z3 = coor3\n",
    "    \n",
    "    a1 = x2 - x1\n",
    "    b1 = y2 - y1\n",
    "    c1 = z2 - z1\n",
    "    a2 = x3 - x1\n",
    "    b2 = y3 - y1\n",
    "    c2 = z3 - z1\n",
    "    a = b1 * c2 - b2 * c1\n",
    "    b = a2 * c1 - a1 * c2\n",
    "    c = a1 * b2 - b1 * a2\n",
    "    d = (- a * x1 - b * y1 - c * z1)\n",
    "    return a,b,c,d\n",
    "\n",
    "#Dot product\n",
    "def dot_product(x1, y1, z1, x2, y2, z2):\n",
    "    return x1*x2 + y1*y2 + z1*z2\n",
    "\n",
    "#Angle between two vectors\n",
    "def angle_between_vector(x1, y1, z1, x2, y2, z2):\n",
    "    dot = dot_product(x1, y1, z1, x2, y2, z2)\n",
    "    mag1 = magnitude(x1, y1, z1)\n",
    "    mag2 = magnitude(x2, y2, z2)\n",
    "    angle =  np.arccos(dot/(mag1*mag2)) * 180/np.pi\n",
    "    return angle"
   ]
  },
  {
   "cell_type": "code",
   "execution_count": 7,
   "id": "4665d331",
   "metadata": {},
   "outputs": [],
   "source": [
    "#Modified stereochemistry prediction function to return coordinates for visuallization\n",
    "def get_pose_metrics(protein_pdb_path, ligand_pdb_path, ligand, lig_atom_dict, R206_resi = None):\n",
    "    metric_dict = dict()\n",
    "\n",
    "    #Read pdb of protein for fad atoms\n",
    "    model_df = pdb_as_df(protein_pdb_path)\n",
    "    fad_df = get_atoms(model_df, 'resi_name', 'FAD')\n",
    "    \n",
    "    #Read pdb of ligand \n",
    "    lig_df = pdb_as_df(ligand_pdb_path)\n",
    "    lig_df = get_atoms(lig_df, 'atom_name', lig_atom_dict[ligand])\n",
    "    \n",
    "    #Get atom that binds to hydroperoxyl group in activated FAD\n",
    "    fad_atom = 'C13'\n",
    "    fad_atom_x, fad_atom_y, fad_atom_z = get_atom_coor(fad_df, fad_atom)\n",
    "    metric_dict['fad_coor'] = (fad_atom_x, fad_atom_y, fad_atom_z)\n",
    "    \n",
    "    #Get distance to c4a from ligand average coords\n",
    "    lig_xave, lig_yave, lig_zave = average_coor(lig_df)\n",
    "    metric_dict['lig_ave_coor'] = [lig_xave, lig_yave, lig_zave]\n",
    "    dist_to_fad = coor_distance(fad_atom_x, fad_atom_y, fad_atom_z, lig_xave, lig_yave, lig_zave)\n",
    "    metric_dict['dist_to_fadh'] = dist_to_fad\n",
    "    \n",
    "    #plane equation and normal vector of ligand ring\n",
    "    plane_atoms = lig_atom_dict[ligand]\n",
    "    lig_coor_1 = get_atom_coor(lig_df, plane_atoms[0])\n",
    "    lig_coor_2 = get_atom_coor(lig_df, plane_atoms[1])\n",
    "    lig_coor_3 = get_atom_coor(lig_df, plane_atoms[2])\n",
    "    a_lig, b_lig, c_lig, d_lig = plane(lig_coor_1, lig_coor_2, lig_coor_3)\n",
    "    \n",
    "    #normal vector of ligand (for visuallization)\n",
    "    lig_norm_x = lig_xave + a_lig\n",
    "    lig_norm_y = lig_yave + b_lig\n",
    "    lig_norm_z = lig_zave + c_lig\n",
    "    metric_dict['lig_norm'] = (lig_norm_x, lig_norm_y, lig_norm_z)\n",
    "        \n",
    "    #find angle between normal vector and distance vector\n",
    "    #distance vector\n",
    "    dist_x, dist_y, dist_z = fad_atom_x - lig_xave, fad_atom_y - lig_yave, fad_atom_z - lig_zave\n",
    "    metric_dict['fad_vector'] = (dist_x, dist_y, dist_z)\n",
    "    angle_between_vect = round(angle_between_vector(dist_x, dist_y, dist_z, a_lig, b_lig, c_lig),2)\n",
    "    metric_dict['angle'] = angle_between_vect\n",
    "    \n",
    "    #Define stereochemistry as R if angle > 90 else, S\n",
    "    stereo = ''\n",
    "    if angle_between_vect >= 90:\n",
    "        stereo = 'R'\n",
    "    else:\n",
    "        stereo = 'S'\n",
    "    metric_dict['stereo'] = stereo\n",
    "    \n",
    "    #Calculate anion distance to R206 in TropB\n",
    "    anion_dist = None\n",
    "    if R206_resi:\n",
    "        #Get arginine atom\n",
    "        prot_resi_df = get_atoms(model_df, 'resi_num', R206_resi)\n",
    "        CZ_coor = get_atom_coor(prot_resi_df, 'CZ')\n",
    "        metric_dict['R206 coor'] = CZ_coor\n",
    "        if CZ_coor:\n",
    "            lig_anion = lig_atom_dict[ligand][-1]\n",
    "            lig_anion_coor = get_atom_coor(lig_df, lig_anion)\n",
    "            metric_dict['lig anion coor'] = lig_anion_coor\n",
    "            anion_dist = coor_distance_tuple(CZ_coor, lig_anion_coor)\n",
    "            metric_dict['anion dist'] = anion_dist\n",
    "                    \n",
    "    return metric_dict \n",
    "    "
   ]
  },
  {
   "cell_type": "code",
   "execution_count": 8,
   "id": "f675ff6c",
   "metadata": {},
   "outputs": [
    {
     "data": {
      "application/vnd.jupyter.widget-view+json": {
       "model_id": "0209e69c5fc544d1bc631b9b3b66b551",
       "version_major": 2,
       "version_minor": 0
      },
      "text/plain": [
       "NGLWidget()"
      ]
     },
     "metadata": {},
     "output_type": "display_data"
    }
   ],
   "source": [
    "#View AlphaFold structure\n",
    "af2_view = nglview.show_file(af2_model_path)\n",
    "af2_view.display()"
   ]
  },
  {
   "cell_type": "code",
   "execution_count": 9,
   "id": "655a74ac",
   "metadata": {},
   "outputs": [
    {
     "data": {
      "application/vnd.jupyter.widget-view+json": {
       "model_id": "a6b312f98b0d4d8f9f1d398046b1a5b8",
       "version_major": 2,
       "version_minor": 0
      },
      "text/plain": [
       "NGLWidget()"
      ]
     },
     "metadata": {},
     "output_type": "display_data"
    }
   ],
   "source": [
    "#View structure with cofactor\n",
    "fad_view = nglview.show_file(pdb_with_fad_path)\n",
    "fad_view.display()"
   ]
  },
  {
   "cell_type": "code",
   "execution_count": 10,
   "id": "4f69335d",
   "metadata": {},
   "outputs": [
    {
     "data": {
      "application/vnd.jupyter.widget-view+json": {
       "model_id": "9043dec505004afc98f435d05f4344a0",
       "version_major": 2,
       "version_minor": 0
      },
      "text/plain": [
       "NGLWidget()"
      ]
     },
     "metadata": {},
     "output_type": "display_data"
    }
   ],
   "source": [
    "#View structure with docked ligand\n",
    "dock_view = nglview.show_file(pdb_with_fad_path)\n",
    "dock_view.add_component(top_pose_path)\n",
    "dock_view.display()"
   ]
  },
  {
   "cell_type": "code",
   "execution_count": 11,
   "id": "878d6d6f",
   "metadata": {},
   "outputs": [
    {
     "name": "stdout",
     "output_type": "stream",
     "text": [
      "fad_coor (52.163, 45.694, 43.695)\n",
      "lig_ave_coor [56.464857142857134, 46.56099999999999, 44.154857142857146]\n",
      "dist_to_fadh 4.412383989340422\n",
      "lig_norm (57.84304514285714, 45.604975999999986, 43.870737142857145)\n",
      "fad_vector (-4.301857142857138, -0.8669999999999902, -0.4598571428571461)\n",
      "angle 131.45\n",
      "stereo R\n",
      "R206 coor (57.265, 49.739, 40.199)\n",
      "lig anion coor (55.919, 47.378, 42.098)\n",
      "anion dist 3.315454418326393\n"
     ]
    }
   ],
   "source": [
    "#Calculate metrics for top ligand pose\n",
    "metric_dict = get_pose_metrics(pdb_with_fad_path, top_pose_path, ligand, lig_atom_dict, R206_resi = 206)\n",
    "for k,v in metric_dict.items():\n",
    "    print(k, v)"
   ]
  },
  {
   "cell_type": "code",
   "execution_count": 56,
   "id": "fbe243e6",
   "metadata": {},
   "outputs": [
    {
     "data": {
      "application/vnd.jupyter.widget-view+json": {
       "model_id": "ba4467c010ac43f89fb7900dc810b8eb",
       "version_major": 2,
       "version_minor": 0
      },
      "text/plain": [
       "NGLWidget()"
      ]
     },
     "metadata": {},
     "output_type": "display_data"
    }
   ],
   "source": [
    "#Display how stereochemistry is calculated\n",
    "dock_view = nglview.show_file(pdb_with_fad_path)\n",
    "dock_view.add_component(top_pose_path)\n",
    "dock_view[0].clear_representations()\n",
    "dock_view[1].clear_representations()\n",
    "dock_view[0].add_representation(repr_type= 'ball+stick', selection = 'FAD and not hydrogen')\n",
    "dock_view[1].add_representation(repr_type= 'ball+stick', selection = 'LIG and not hydrogen')\n",
    "dock_view[1].center(selection = 'LIG')\n",
    "\n",
    "#Add arrows with nglview shape\n",
    "shape = nglview.shape.Shape(view=dock_view)\n",
    "# add_arrow(position1, position2, color, radius, name)\n",
    "\n",
    "#Add normal vector to plane of ligand\n",
    "shape.add_arrow(metric_dict['lig_ave_coor'], metric_dict['lig_norm'], [1, 0, 0], '.5', 'norm')\n",
    "\n",
    "#Add distance vector to fad\n",
    "shape.add_arrow(metric_dict['lig_ave_coor'], metric_dict['fad_coor'], [0, 0, 1], '.5', 'dist')\n",
    "\n",
    "#Label with angle\n",
    "shape.add_text([x + 1 for x in metric_dict['lig_ave_coor']], [0, 0, 0], 3, str(metric_dict['angle']) + '°')\n",
    "\n",
    "dock_view.display()\n"
   ]
  },
  {
   "cell_type": "code",
   "execution_count": null,
   "id": "38674930",
   "metadata": {},
   "outputs": [],
   "source": []
  }
 ],
 "metadata": {
  "kernelspec": {
   "display_name": "seq_struct_func",
   "language": "python",
   "name": "seq_struct_func"
  },
  "language_info": {
   "codemirror_mode": {
    "name": "ipython",
    "version": 3
   },
   "file_extension": ".py",
   "mimetype": "text/x-python",
   "name": "python",
   "nbconvert_exporter": "python",
   "pygments_lexer": "ipython3",
   "version": "3.10.8"
  },
  "vscode": {
   "interpreter": {
    "hash": "37bb81290a227f30a1f330c615be588c376387157889a0b2c81786fdd43d8098"
   }
  }
 },
 "nbformat": 4,
 "nbformat_minor": 5
}
